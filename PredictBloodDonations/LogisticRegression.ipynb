{
 "cells": [
  {
   "cell_type": "markdown",
   "metadata": {},
   "source": [
    "# Logistic Regression\n",
    "(C) 2018 Dariusz Kajtoch"
   ]
  },
  {
   "cell_type": "code",
   "execution_count": 1,
   "metadata": {},
   "outputs": [],
   "source": [
    "import numpy as np\n",
    "import pandas as pd\n",
    "import warnings\n",
    "warnings.filterwarnings(\"ignore\",category=DeprecationWarning)"
   ]
  },
  {
   "cell_type": "code",
   "execution_count": 2,
   "metadata": {},
   "outputs": [
    {
     "name": "stdout",
     "output_type": "stream",
     "text": [
      "Index(['Unnamed: 0', 'Months since Last Donation', 'Number of Donations',\n",
      "       'Total Volume Donated (c.c.)', 'Months since First Donation',\n",
      "       'Made Donation in March 2007'],\n",
      "      dtype='object')\n"
     ]
    },
    {
     "data": {
      "text/html": [
       "<div>\n",
       "<style scoped>\n",
       "    .dataframe tbody tr th:only-of-type {\n",
       "        vertical-align: middle;\n",
       "    }\n",
       "\n",
       "    .dataframe tbody tr th {\n",
       "        vertical-align: top;\n",
       "    }\n",
       "\n",
       "    .dataframe thead th {\n",
       "        text-align: right;\n",
       "    }\n",
       "</style>\n",
       "<table border=\"1\" class=\"dataframe\">\n",
       "  <thead>\n",
       "    <tr style=\"text-align: right;\">\n",
       "      <th></th>\n",
       "      <th>Id</th>\n",
       "      <th>MonthLast</th>\n",
       "      <th>Num</th>\n",
       "      <th>Vol</th>\n",
       "      <th>MonthFirst</th>\n",
       "      <th>Predict</th>\n",
       "    </tr>\n",
       "  </thead>\n",
       "  <tbody>\n",
       "    <tr>\n",
       "      <th>0</th>\n",
       "      <td>619</td>\n",
       "      <td>2</td>\n",
       "      <td>50</td>\n",
       "      <td>12500</td>\n",
       "      <td>98</td>\n",
       "      <td>1</td>\n",
       "    </tr>\n",
       "    <tr>\n",
       "      <th>1</th>\n",
       "      <td>664</td>\n",
       "      <td>0</td>\n",
       "      <td>13</td>\n",
       "      <td>3250</td>\n",
       "      <td>28</td>\n",
       "      <td>1</td>\n",
       "    </tr>\n",
       "    <tr>\n",
       "      <th>2</th>\n",
       "      <td>441</td>\n",
       "      <td>1</td>\n",
       "      <td>16</td>\n",
       "      <td>4000</td>\n",
       "      <td>35</td>\n",
       "      <td>1</td>\n",
       "    </tr>\n",
       "    <tr>\n",
       "      <th>3</th>\n",
       "      <td>160</td>\n",
       "      <td>2</td>\n",
       "      <td>20</td>\n",
       "      <td>5000</td>\n",
       "      <td>45</td>\n",
       "      <td>1</td>\n",
       "    </tr>\n",
       "    <tr>\n",
       "      <th>4</th>\n",
       "      <td>358</td>\n",
       "      <td>1</td>\n",
       "      <td>24</td>\n",
       "      <td>6000</td>\n",
       "      <td>77</td>\n",
       "      <td>0</td>\n",
       "    </tr>\n",
       "  </tbody>\n",
       "</table>\n",
       "</div>"
      ],
      "text/plain": [
       "    Id  MonthLast  Num    Vol  MonthFirst  Predict\n",
       "0  619          2   50  12500          98        1\n",
       "1  664          0   13   3250          28        1\n",
       "2  441          1   16   4000          35        1\n",
       "3  160          2   20   5000          45        1\n",
       "4  358          1   24   6000          77        0"
      ]
     },
     "execution_count": 2,
     "metadata": {},
     "output_type": "execute_result"
    }
   ],
   "source": [
    "data = pd.read_csv('./predict_blood_donations.csv')\n",
    "print(data.columns)\n",
    "data.columns = ['Id', 'MonthLast', 'Num', 'Vol', 'MonthFirst', 'Predict']\n",
    "data.head()"
   ]
  },
  {
   "cell_type": "markdown",
   "metadata": {},
   "source": [
    "# Features"
   ]
  },
  {
   "cell_type": "code",
   "execution_count": 207,
   "metadata": {},
   "outputs": [
    {
     "name": "stderr",
     "output_type": "stream",
     "text": [
      "/opt/intel/intelpython3/lib/python3.6/site-packages/ipykernel_launcher.py:8: SettingWithCopyWarning: \n",
      "A value is trying to be set on a copy of a slice from a DataFrame.\n",
      "Try using .loc[row_indexer,col_indexer] = value instead\n",
      "\n",
      "See the caveats in the documentation: http://pandas.pydata.org/pandas-docs/stable/indexing.html#indexing-view-versus-copy\n",
      "  \n"
     ]
    }
   ],
   "source": [
    "X = data[[\n",
    "    'MonthLast',\n",
    "    'Num',\n",
    "    'MonthFirst'\n",
    "]]\n",
    "#X['Ratio'] = X['MonthLast']/X['MonthFirst']\n",
    "#X['Ratio'] = np.log(X['MonthLast']/X['MonthFirst']+1.)\n",
    "X['log'] = np.log(X['MonthFirst']-X['MonthLast']+1)\n",
    "\n",
    "y = data['Predict']\n",
    "\n",
    "from sklearn.base import BaseEstimator, TransformerMixin\n",
    "from sklearn.preprocessing import StandardScaler\n",
    "\n",
    "class Features(TransformerMixin):\n",
    "    \n",
    "    def __init__(self):\n",
    "        self.names = ['MonthLast', 'Num', 'MonthFirst']\n",
    "        self.sc = StandardScaler()\n",
    "    \n",
    "    def transform(self, X, **kwargs):\n",
    "        ret = self.sc.transform(X[self.names])\n",
    "        ret = np.c_[ret, X['Ratio'].tolist()]\n",
    "        return ret\n",
    "    \n",
    "    def fit(self, X, y=None, **kwargs):\n",
    "        self.sc.fit(X[self.names],y)\n",
    "        return self"
   ]
  },
  {
   "cell_type": "code",
   "execution_count": null,
   "metadata": {},
   "outputs": [],
   "source": []
  },
  {
   "cell_type": "code",
   "execution_count": 219,
   "metadata": {},
   "outputs": [
    {
     "name": "stdout",
     "output_type": "stream",
     "text": [
      "dict_keys(['fit_time', 'score_time', 'test_Loss', 'train_Loss', 'test_Accuracy', 'train_Accuracy'])\n",
      "-0.47640207493153314\n",
      "-0.4888495200895626\n"
     ]
    }
   ],
   "source": [
    "from sklearn.model_selection import StratifiedKFold, LeaveOneOut\n",
    "from sklearn.metrics import roc_auc_score, log_loss, accuracy_score\n",
    "from sklearn.linear_model import LogisticRegression\n",
    "from sklearn.pipeline import Pipeline\n",
    "from sklearn.preprocessing import StandardScaler\n",
    "from sklearn.model_selection import cross_validate\n",
    "\n",
    "import sys\n",
    "\n",
    "lr = LogisticRegression(penalty='l2', C=1.2, random_state=56)\n",
    "\n",
    "clf = lr\n",
    "#clf = Pipeline([('scaler', StandardScaler()), ('estimator', lr)])\n",
    "\n",
    "cv_results = cross_validate(clf, X, y,\n",
    "    scoring = {\n",
    "        'Loss': 'neg_log_loss',\n",
    "        'Accuracy': 'accuracy'     \n",
    "    },\n",
    "    cv=StratifiedKFold(n_splits=50, random_state=1234),\n",
    "    return_train_score=True\n",
    ")\n",
    "\n",
    "print(cv_results.keys())\n",
    "    \n",
    "print(np.mean(cv_results['train_Loss']))\n",
    "print(np.mean(cv_results['test_Loss']))"
   ]
  },
  {
   "cell_type": "markdown",
   "metadata": {},
   "source": [
    "## Bagging Logistic Regression"
   ]
  },
  {
   "cell_type": "code",
   "execution_count": 220,
   "metadata": {},
   "outputs": [
    {
     "name": "stdout",
     "output_type": "stream",
     "text": [
      "dict_keys(['fit_time', 'score_time', 'test_Loss', 'train_Loss', 'test_Accuracy', 'train_Accuracy'])\n",
      "-0.48230365498367184\n",
      "-0.4876255533195104\n"
     ]
    }
   ],
   "source": [
    "from sklearn.ensemble import BaggingClassifier\n",
    "\n",
    "bag = BaggingClassifier(base_estimator=clf,\n",
    "    n_estimators=30,\n",
    "    max_samples=1.,\n",
    "    bootstrap=True,\n",
    "    bootstrap_features=True,\n",
    "    random_state=0         \n",
    ")\n",
    "\n",
    "cv_results = cross_validate(bag, X, y,\n",
    "    scoring = {\n",
    "        'Loss': 'neg_log_loss',\n",
    "        'Accuracy': 'accuracy'     \n",
    "    },\n",
    "    cv=StratifiedKFold(n_splits=50, random_state=1234),\n",
    "    return_train_score=True\n",
    ")\n",
    "\n",
    "print(cv_results.keys())\n",
    "    \n",
    "print(np.mean(cv_results['train_Loss']))\n",
    "print(np.mean(cv_results['test_Loss']))"
   ]
  },
  {
   "cell_type": "code",
   "execution_count": 225,
   "metadata": {},
   "outputs": [
    {
     "data": {
      "text/plain": [
       "BaggingClassifier(base_estimator=LogisticRegression(C=1.2, class_weight=None, dual=False, fit_intercept=True,\n",
       "          intercept_scaling=1, max_iter=100, multi_class='ovr', n_jobs=1,\n",
       "          penalty='l2', random_state=56, solver='liblinear', tol=0.0001,\n",
       "          verbose=0, warm_start=False),\n",
       "         bootstrap=True, bootstrap_features=True, max_features=1.0,\n",
       "         max_samples=1.0, n_estimators=30, n_jobs=1, oob_score=False,\n",
       "         random_state=0, verbose=0, warm_start=False)"
      ]
     },
     "execution_count": 225,
     "metadata": {},
     "output_type": "execute_result"
    }
   ],
   "source": [
    "bag.fit(X,y)"
   ]
  },
  {
   "cell_type": "code",
   "execution_count": 75,
   "metadata": {},
   "outputs": [
    {
     "name": "stdout",
     "output_type": "stream",
     "text": [
      "AUC: 0.85925630 +/- 0.12342818, min: 0.63149351\n",
      "LogLoss: 0.50950758 +/- 0.08219407, max: 0.66872279\n",
      "Accuracy: 0.75874384 +/- 0.01287167, min: 0.72413793\n"
     ]
    }
   ],
   "source": [
    "print('AUC: %.8f +/- %.8f, min: %.8f' % (np.mean(roc_tab), np.std(roc_tab), np.min(roc_tab)))\n",
    "print('LogLoss: %.8f +/- %.8f, max: %.8f' % (np.mean(loss_tab), np.std(loss_tab), np.max(loss_tab)))\n",
    "print('Accuracy: %.8f +/- %.8f, min: %.8f' % (np.mean(acc_tab), np.std(acc_tab), np.min(acc_tab)))"
   ]
  },
  {
   "cell_type": "code",
   "execution_count": 222,
   "metadata": {},
   "outputs": [
    {
     "name": "stdout",
     "output_type": "stream",
     "text": [
      "[0.6216937831432269, 0.5234546505046235, 0.45513301924698313, 0.43391712269238075, 0.42941885194888385, 0.4988078412942319, 0.9042610764010716, 0.47436105265399414, 0.3912385601401405, 0.5116973617798835]\n"
     ]
    }
   ],
   "source": [
    "print(loss_tab)"
   ]
  },
  {
   "cell_type": "code",
   "execution_count": 226,
   "metadata": {},
   "outputs": [
    {
     "name": "stdout",
     "output_type": "stream",
     "text": [
      "['Unnamed: 0', 'Months since Last Donation', 'Number of Donations', 'Total Volume Donated (c.c.)', 'Months since First Donation']\n"
     ]
    },
    {
     "name": "stderr",
     "output_type": "stream",
     "text": [
      "/opt/intel/intelpython3/lib/python3.6/site-packages/ipykernel_launcher.py:11: SettingWithCopyWarning: \n",
      "A value is trying to be set on a copy of a slice from a DataFrame.\n",
      "Try using .loc[row_indexer,col_indexer] = value instead\n",
      "\n",
      "See the caveats in the documentation: http://pandas.pydata.org/pandas-docs/stable/indexing.html#indexing-view-versus-copy\n",
      "  # This is added back by InteractiveShellApp.init_path()\n"
     ]
    }
   ],
   "source": [
    "from collections import OrderedDict\n",
    "\n",
    "test = pd.read_csv('./test.csv')\n",
    "print(test.columns.tolist())\n",
    "X_test = test[[\n",
    "    'Months since Last Donation',\n",
    "    'Number of Donations',\n",
    "    'Months since First Donation'\n",
    "]]\n",
    "X_test.columns = ['MonthLast', 'Num', 'MonthFirst']\n",
    "X_test['log'] = np.log(X_test['MonthFirst']-X_test['MonthLast']+1.)\n",
    "proba = bag.predict_proba(X_test)[:,1]*1.\n",
    "\n",
    "submission = pd.DataFrame(\n",
    "    OrderedDict([('',test['Unnamed: 0']), ('Made Donation in March 2007',proba)])\n",
    ")\n",
    "\n",
    "submission.to_csv('./submission.csv', index=False)"
   ]
  },
  {
   "cell_type": "code",
   "execution_count": null,
   "metadata": {},
   "outputs": [],
   "source": []
  }
 ],
 "metadata": {
  "kernelspec": {
   "display_name": "Python 3",
   "language": "python",
   "name": "python3"
  },
  "language_info": {
   "codemirror_mode": {
    "name": "ipython",
    "version": 3
   },
   "file_extension": ".py",
   "mimetype": "text/x-python",
   "name": "python",
   "nbconvert_exporter": "python",
   "pygments_lexer": "ipython3",
   "version": "3.6.3"
  },
  "latex_envs": {
   "LaTeX_envs_menu_present": true,
   "autoclose": false,
   "autocomplete": true,
   "bibliofile": "biblio.bib",
   "cite_by": "apalike",
   "current_citInitial": 1,
   "eqLabelWithNumbers": true,
   "eqNumInitial": 1,
   "hotkeys": {
    "equation": "Ctrl-E",
    "itemize": "Ctrl-I"
   },
   "labels_anchors": false,
   "latex_user_defs": false,
   "report_style_numbering": false,
   "user_envs_cfg": false
  }
 },
 "nbformat": 4,
 "nbformat_minor": 2
}
