{
 "cells": [
  {
   "cell_type": "markdown",
   "metadata": {},
   "source": [
    "# Support Vector Machine"
   ]
  },
  {
   "cell_type": "code",
   "execution_count": 1,
   "metadata": {},
   "outputs": [],
   "source": [
    "import pandas as pd\n",
    "import numpy as np\n",
    "pd.options.mode.chained_assignment = None"
   ]
  },
  {
   "cell_type": "code",
   "execution_count": 2,
   "metadata": {},
   "outputs": [],
   "source": [
    "data = pd.read_csv('./data/train.csv')"
   ]
  },
  {
   "cell_type": "code",
   "execution_count": null,
   "metadata": {},
   "outputs": [],
   "source": []
  },
  {
   "cell_type": "code",
   "execution_count": 3,
   "metadata": {},
   "outputs": [],
   "source": [
    "X = data[[\n",
    "          'perc_premium_paid_by_cash_credit', \n",
    "          'age_in_days', \n",
    "          'Income', \n",
    "          'Count_3-6_months_late', \n",
    "          'Count_6-12_months_late', \n",
    "          'Count_more_than_12_months_late', \n",
    "          'no_of_premiums_paid', \n",
    "#          'premium',\n",
    "          'application_underwriting_score',\n",
    "#          'sourcing_channel'\n",
    "         ]]\n",
    "#X['logIncome'] = np.log(data['Income'])\n",
    "#X['logAge'] = np.log(data['age_in_days'])\n",
    "#X['logperc_premium_paid_by_cash_credit'] = np.log(1. + data['perc_premium_paid_by_cash_credit'])\n",
    "#X['standard_age'] = data['age_in_days'].apply(lambda row: np.floor(row/365.))\n",
    "#X['perc'] = data['perc_premium_paid_by_cash_credit'].apply(lambda x: x if x<0.5 else x-1.)\n",
    "\n",
    "from scipy.stats import boxcox\n",
    "\n",
    "#X['BCage_in_days'], _ = boxcox(data['age_in_days'])\n",
    "#X['BCIncome'], _ = boxcox(data['Income'])\n",
    "\n",
    "# fill nans\n",
    "for name in X.columns.tolist():\n",
    "    val = X[name].mean()#.iloc[0]\n",
    "    X[name].fillna(val, inplace=True)\n",
    "    \n",
    "# predictor\n",
    "y = data['renewal']"
   ]
  },
  {
   "cell_type": "code",
   "execution_count": null,
   "metadata": {},
   "outputs": [],
   "source": [
    "from sklearn.svm import SVC\n",
    "from sklearn.model_selection import StratifiedKFold\n",
    "from sklearn.metrics import roc_auc_score, log_loss\n",
    "from sklearn.pipeline import make_pipeline\n",
    "from sklearn.preprocessing import MinMaxScaler, StandardScaler, QuantileTransformer, Normalizer\n",
    "\n",
    "svc = SVC(C=1.0, kernel='rbf', degree=3, gamma='auto')\n",
    "\n",
    "clf = make_pipeline(StandardScaler(), svc)\n",
    "\n",
    "auc_tab  = np.array([])\n",
    "loss_tab = np.array([])\n",
    "\n",
    "skf = StratifiedKFold(n_splits=10)\n",
    "for train_index, test_index in skf.split(X,y):\n",
    "    X_train, X_test = X.iloc[train_index], X.iloc[test_index]\n",
    "    y_train, y_test = y.iloc[train_index], y.iloc[test_index]\n",
    "    \n",
    "    clf.fit(X_train, y_train)\n",
    "    proba = clf.predict_proba(X_test)\n",
    "    \n",
    "    auc = roc_auc_score(y_test, proba[:,1])\n",
    "    loss = log_loss(y_test, proba)\n",
    "    \n",
    "    auc_tab  = np.append(auc_tab, auc)\n",
    "    loss_tab = np.append(loss_tab, loss)\n",
    "    \n",
    "    print('Single fold done')"
   ]
  },
  {
   "cell_type": "code",
   "execution_count": null,
   "metadata": {},
   "outputs": [],
   "source": [
    "print('AUC: %.8f +/- %.8f' % (np.mean(auc_tab), np.std(auc_tab)))\n",
    "print('Loss: %.8f +/- %.8f' % (np.mean(loss_tab), np.std(loss_tab)))\n",
    "print('-------------------------------------------')\n",
    "print(estimator.feature_importances_)"
   ]
  }
 ],
 "metadata": {
  "kernelspec": {
   "display_name": "Python 2",
   "language": "python",
   "name": "python2"
  },
  "language_info": {
   "codemirror_mode": {
    "name": "ipython",
    "version": 2
   },
   "file_extension": ".py",
   "mimetype": "text/x-python",
   "name": "python",
   "nbconvert_exporter": "python",
   "pygments_lexer": "ipython2",
   "version": "2.7.13"
  }
 },
 "nbformat": 4,
 "nbformat_minor": 2
}
