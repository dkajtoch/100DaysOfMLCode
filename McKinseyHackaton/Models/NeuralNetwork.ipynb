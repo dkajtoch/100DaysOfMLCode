{
 "cells": [
  {
   "cell_type": "markdown",
   "metadata": {},
   "source": [
    "# Neural Network\n",
    "(C) 2018 Dariusz Kajtoch"
   ]
  },
  {
   "cell_type": "code",
   "execution_count": 8,
   "metadata": {},
   "outputs": [],
   "source": [
    "import pandas as pd\n",
    "import numpy as np\n",
    "pd.options.mode.chained_assignment = None\n",
    "import warnings\n",
    "warnings.filterwarnings(\"ignore\", category=DeprecationWarning)\n",
    "import sys\n",
    "sys.path.append('../')\n",
    "from incentives import optimal_revenue"
   ]
  },
  {
   "cell_type": "code",
   "execution_count": 5,
   "metadata": {},
   "outputs": [],
   "source": [
    "data = pd.read_csv('../data/train.csv')"
   ]
  },
  {
   "cell_type": "code",
   "execution_count": null,
   "metadata": {},
   "outputs": [],
   "source": []
  },
  {
   "cell_type": "code",
   "execution_count": 6,
   "metadata": {},
   "outputs": [],
   "source": [
    "X = data[[\n",
    "          'perc_premium_paid_by_cash_credit', \n",
    "#          'age_in_days', \n",
    "#          'Income', \n",
    "          'Count_3-6_months_late', \n",
    "          'Count_6-12_months_late', \n",
    "          'Count_more_than_12_months_late', \n",
    "          'no_of_premiums_paid', \n",
    "#          'premium',\n",
    "          'application_underwriting_score',\n",
    "#          'sourcing_channel'\n",
    "         ]]\n",
    "X['logIncome'] = np.log(data['Income'])\n",
    "#X['logAge'] = np.log(data['age_in_days'])\n",
    "#X['logperc_premium_paid_by_cash_credit'] = np.log(1. + data['perc_premium_paid_by_cash_credit'])\n",
    "#X['standard_age'] = data['age_in_days'].apply(lambda row: np.floor(row/365.))\n",
    "#X['perc'] = data['perc_premium_paid_by_cash_credit'].apply(lambda x: x if x<0.5 else x-1.)\n",
    "\n",
    "from scipy.stats import boxcox\n",
    "\n",
    "X['BCage_in_days'], _ = boxcox(data['age_in_days'])\n",
    "#X['BCIncome'], _ = boxcox(data['Income'])\n",
    "\n",
    "# fill nans\n",
    "for name in X.columns.tolist():\n",
    "    val = X[name].mean()#.iloc[0]\n",
    "    X[name].fillna(val, inplace=True)\n",
    "    \n",
    "# predictor\n",
    "y = data['renewal']\n",
    "\n",
    "# premium\n",
    "premium = data['premium']"
   ]
  },
  {
   "cell_type": "code",
   "execution_count": 13,
   "metadata": {},
   "outputs": [
    {
     "name": "stdout",
     "output_type": "stream",
     "text": [
      "Single Fold done\n",
      "Single Fold done\n",
      "Single Fold done\n",
      "Single Fold done\n",
      "Single Fold done\n",
      "Single Fold done\n",
      "Single Fold done\n",
      "Single Fold done\n",
      "Single Fold done\n",
      "Single Fold done\n",
      "Single Fold done\n",
      "Single Fold done\n",
      "Single Fold done\n",
      "Single Fold done\n",
      "Single Fold done\n",
      "Single Fold done\n",
      "Single Fold done\n",
      "Single Fold done\n",
      "Single Fold done\n",
      "Single Fold done\n",
      "Single Fold done\n",
      "Single Fold done\n",
      "Single Fold done\n",
      "Single Fold done\n",
      "Single Fold done\n",
      "Single Fold done\n",
      "Single Fold done\n",
      "Single Fold done\n",
      "Single Fold done\n",
      "Single Fold done\n",
      "Single Fold done\n",
      "Single Fold done\n",
      "Single Fold done\n",
      "Single Fold done\n",
      "Single Fold done\n",
      "Single Fold done\n",
      "Single Fold done\n",
      "Single Fold done\n",
      "Single Fold done\n",
      "Single Fold done\n",
      "Single Fold done\n",
      "Single Fold done\n",
      "Single Fold done\n",
      "Single Fold done\n",
      "Single Fold done\n",
      "Single Fold done\n",
      "Single Fold done\n",
      "Single Fold done\n",
      "Single Fold done\n",
      "Single Fold done\n"
     ]
    }
   ],
   "source": [
    "# ---------------------------------------\n",
    "import random as rn\n",
    "import tensorflow as tf\n",
    "np.random.seed(654)\n",
    "rn.seed(654)\n",
    "tf.set_random_seed(654)\n",
    "import os\n",
    "os.environ['PYTHONHASHSEED'] = '0'\n",
    "from keras import backend as K\n",
    "session_conf = tf.ConfigProto(intra_op_parallelism_threads=1, inter_op_parallelism_threads=1)\n",
    "sess = tf.Session(graph=tf.get_default_graph(), config=session_conf)\n",
    "K.set_session(sess)\n",
    "# ---------------------------------------\n",
    "from keras.models import Sequential\n",
    "from keras.layers import Dense\n",
    "from sklearn.preprocessing import StandardScaler, MinMaxScaler\n",
    "from sklearn.pipeline import Pipeline\n",
    "from sklearn.model_selection import StratifiedKFold\n",
    "from sklearn.metrics import roc_auc_score, log_loss\n",
    "\n",
    "# ----------------------------\n",
    "# Define model\n",
    "# ----------------------------\n",
    "input_dim = len(X.columns)\n",
    "\n",
    "model = Sequential()\n",
    "model.add(Dense(32, input_dim=input_dim, kernel_initializer='random_uniform', activation='relu'))\n",
    "model.add(Dense(16, kernel_initializer='random_uniform', activation='relu'))\n",
    "#model.add(Dense(16, kernel_initializer='random_uniform', activation='relu'))\n",
    "model.add(Dense(1, kernel_initializer='random_uniform', activation='sigmoid'))\n",
    "\n",
    "# compile model\n",
    "model.compile(loss='binary_crossentropy', optimizer='adam', metrics=['accuracy'])\n",
    "\n",
    "# combine scaler with neural network\n",
    "clf = Pipeline([('feature', StandardScaler()), ('model', model)])\n",
    "\n",
    "# ----------------------\n",
    "# Validate\n",
    "# ----------------------\n",
    "\n",
    "auc_tab  = np.array([])\n",
    "loss_tab = np.array([])\n",
    "revenue  = np.array([])\n",
    "\n",
    "random_state = [245, 34, 78, 1234, 888]\n",
    "\n",
    "for rstate in random_state:\n",
    "    skf = StratifiedKFold(n_splits=10, random_state=rstate)\n",
    "    \n",
    "    for train_index, test_index in skf.split(X,y):\n",
    "        X_train, X_test = X.iloc[train_index], X.iloc[test_index]\n",
    "        y_train, y_test = y.iloc[train_index], y.iloc[test_index]\n",
    "    \n",
    "        clf.fit(X_train, y_train,\n",
    "            model__epochs=9,\n",
    "            model__batch_size=200,\n",
    "            model__verbose=False\n",
    "        )\n",
    "    \n",
    "        prob = np.float64(clf.predict_proba(X_test))\n",
    "        premium_test = premium.iloc[test_index]\n",
    "    \n",
    "        auc = roc_auc_score(y_test, prob)\n",
    "        loss = log_loss(y_test, prob)\n",
    "        net = np.array([optimal_revenue(premium_test.iloc[i], prob[i])[1] for i in range(0,len(prob))])\n",
    "        net = np.sum(net)\n",
    "    \n",
    "        auc_tab  = np.append(auc_tab, auc)\n",
    "        loss_tab = np.append(loss_tab, loss)\n",
    "        revenue  = np.append(revenue, net)\n",
    "    \n",
    "        print('Single Fold done')"
   ]
  },
  {
   "cell_type": "code",
   "execution_count": 11,
   "metadata": {},
   "outputs": [
    {
     "name": "stdout",
     "output_type": "stream",
     "text": [
      "AUC: 0.84341855 +/- 0.00805440\n",
      "Loss: 0.17904953 +/- 0.00318279\n"
     ]
    }
   ],
   "source": [
    "print('AUC: %.8f +/- %.8f' % (np.mean(auc_tab), np.std(auc_tab)))\n",
    "print('Loss: %.8f +/- %.8f' % (np.mean(loss_tab), np.std(loss_tab)))"
   ]
  },
  {
   "cell_type": "markdown",
   "metadata": {},
   "source": [
    "1. epochs = 10, batch_size = 200\n",
    "    * AUC: 0.84377266 +/- 0.00832411\n",
    "    * Loss: 0.17878962 +/- 0.00310919\n",
    "2. epochs = 12, batch_size = 200\n",
    "    * AUC: 0.84352481 +/- 0.00790659\n",
    "    * Loss: 0.17875443 +/- 0.00312427\n",
    "3. epochs = 12, batch_size = 190\n",
    "    * AUC: 0.84228100 +/- 0.00934785\n",
    "    * Loss: 0.17935454 +/- 0.00328438\n",
    "4. epochs = 5, batch_size = 100\n",
    "    * AUC: 0.84176712 +/- 0.00793250\n",
    "    * Loss: 0.18011643 +/- 0.00283375\n",
    "5. epochs = 9, batch_size = 200\n",
    "    * AUC: 0.84412345 +/- 0.00794785\n",
    "    * Loss: 0.17875216 +/- 0.00286832\n",
    "6. epochs = 8, batch_size = 200\n",
    "    * AUC: 0.84341855 +/- 0.00805440\n",
    "    * Loss: 0.17904953 +/- 0.00318279"
   ]
  },
  {
   "cell_type": "code",
   "execution_count": 15,
   "metadata": {},
   "outputs": [
    {
     "name": "stdout",
     "output_type": "stream",
     "text": [
      "[0.84555944 0.8448198  0.82838899 0.84716538 0.85696099 0.83564729\n",
      " 0.84758103 0.85280989 0.84506113 0.83724055 0.85221493 0.85132033\n",
      " 0.83561421 0.85443601 0.85958523 0.83767455 0.84940094 0.85537582\n",
      " 0.84346422 0.83890975 0.85349065 0.85191651 0.83614347 0.85784972\n",
      " 0.86029442 0.83840027 0.84966426 0.85543434 0.84596514 0.83769597\n",
      " 0.85381499 0.85236388 0.83833249 0.85673885 0.86106278 0.83976687\n",
      " 0.85273454 0.85580321 0.84919311 0.839689   0.85469209 0.85222883\n",
      " 0.83826904 0.85899693 0.86065602 0.83846587 0.85268951 0.85637328\n",
      " 0.8489069  0.84202553]\n",
      "[0.17882975 0.17868529 0.18225348 0.1771114  0.17394089 0.18311193\n",
      " 0.17762543 0.17484877 0.17952503 0.18158964 0.17523164 0.17572435\n",
      " 0.17822879 0.17398667 0.17225878 0.18255741 0.17587981 0.1738454\n",
      " 0.17906608 0.18084446 0.17488192 0.17524457 0.17767335 0.17258693\n",
      " 0.17188057 0.18285396 0.17512902 0.17389772 0.17787167 0.18109717\n",
      " 0.17499198 0.17510019 0.17756394 0.17362696 0.1717565  0.18171956\n",
      " 0.17377644 0.17340235 0.17686024 0.18039954 0.1741216  0.17495614\n",
      " 0.17654124 0.1720016  0.17173139 0.18297072 0.17410672 0.17299778\n",
      " 0.17610089 0.17933614]\n",
      "[7532.93778584 7464.43382719 7495.09378981 7457.4726501  7428.62527421\n",
      " 7496.34550327 7447.66627397 7440.23688093 7507.0135791  7492.12774197\n",
      " 7520.98657474 7471.65010108 7513.76185049 7472.60161959 7449.8300854\n",
      " 7463.72191083 7486.52219153 7466.76268941 7498.73439577 7477.56059034\n",
      " 7490.54895037 7491.49347364 7445.66019643 7465.82102718 7482.37739126\n",
      " 7480.61084667 7468.99467731 7436.57095332 7492.38441127 7463.27956207\n",
      " 7448.28587202 7447.83628351 7561.28995906 7430.87764934 7456.84968701\n",
      " 7485.33295481 7477.24937413 7518.11776372 7435.33817273 7527.13677641\n",
      " 7509.64235877 7504.9436307  7471.01673118 7463.15755978 7458.83479911\n",
      " 7433.31053288 7477.9526165  7447.14522268 7483.41172822 7471.72611005]\n"
     ]
    }
   ],
   "source": [
    "print(auc_tab)\n",
    "print(loss_tab)\n",
    "print(revenue)"
   ]
  },
  {
   "cell_type": "code",
   "execution_count": 16,
   "metadata": {},
   "outputs": [],
   "source": [
    "import matplotlib.pyplot as plt\n",
    "import seaborn as sns\n",
    "sns.set_context('notebook')\n",
    "\n",
    "plt.rcParams['text.usetex'] = True"
   ]
  },
  {
   "cell_type": "code",
   "execution_count": 20,
   "metadata": {},
   "outputs": [
    {
     "data": {
      "text/plain": [
       "<matplotlib.axes._subplots.AxesSubplot at 0x7f4d336d2410>"
      ]
     },
     "execution_count": 20,
     "metadata": {},
     "output_type": "execute_result"
    },
    {
     "data": {
      "image/png": "[encoded data removed]",
      "text/plain": [
       "<Figure size 1080x360 with 3 Axes>"
      ]
     },
     "metadata": {},
     "output_type": "display_data"
    }
   ],
   "source": [
    "plt.close()\n",
    "\n",
    "fig, ax = plt.subplots(figsize=(15,5), nrows=1, ncols=3)\n",
    "\n",
    "sns.boxplot(auc_tab, ax=ax[0])\n",
    "sns.boxplot(loss_tab, ax=ax[1])\n",
    "sns.boxplot(revenue, ax=ax[2])"
   ]
  },
  {
   "cell_type": "code",
   "execution_count": null,
   "metadata": {},
   "outputs": [],
   "source": []
  }
 ],
 "metadata": {
  "kernelspec": {
   "display_name": "Python 2",
   "language": "python",
   "name": "python2"
  },
  "language_info": {
   "codemirror_mode": {
    "name": "ipython",
    "version": 2
   },
   "file_extension": ".py",
   "mimetype": "text/x-python",
   "name": "python",
   "nbconvert_exporter": "python",
   "pygments_lexer": "ipython2",
   "version": "2.7.13"
  }
 },
 "nbformat": 4,
 "nbformat_minor": 2
}
