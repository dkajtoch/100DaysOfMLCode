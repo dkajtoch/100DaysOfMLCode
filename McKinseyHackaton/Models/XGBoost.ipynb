{
 "cells": [
  {
   "cell_type": "markdown",
   "metadata": {},
   "source": [
    "# XGBoost\n",
    "(C) 2018 Dariusz Kajtoch"
   ]
  },
  {
   "cell_type": "code",
   "execution_count": 1,
   "metadata": {},
   "outputs": [],
   "source": [
    "import pandas as pd\n",
    "import numpy as np\n",
    "pd.options.mode.chained_assignment = None\n",
    "import warnings\n",
    "warnings.filterwarnings(\"ignore\", category=DeprecationWarning)\n",
    "import sys\n",
    "sys.path.append('../')\n",
    "from incentives import optimal_revenue"
   ]
  },
  {
   "cell_type": "code",
   "execution_count": 2,
   "metadata": {},
   "outputs": [],
   "source": [
    "data = pd.read_csv('../data/train.csv')"
   ]
  },
  {
   "cell_type": "code",
   "execution_count": null,
   "metadata": {},
   "outputs": [],
   "source": []
  },
  {
   "cell_type": "code",
   "execution_count": 3,
   "metadata": {},
   "outputs": [],
   "source": [
    "X = data[[\n",
    "          'perc_premium_paid_by_cash_credit', \n",
    "          'age_in_days', \n",
    "          'Income', \n",
    "          'Count_3-6_months_late', \n",
    "          'Count_6-12_months_late', \n",
    "          'Count_more_than_12_months_late', \n",
    "          'no_of_premiums_paid', \n",
    "#          'premium',\n",
    "          'application_underwriting_score',\n",
    "#          'sourcing_channel'\n",
    "         ]]\n",
    "#X['logIncome'] = np.log(data['Income'])\n",
    "#X['logAge'] = np.log(data['age_in_days'])\n",
    "#X['logperc_premium_paid_by_cash_credit'] = np.log(1. + data['perc_premium_paid_by_cash_credit'])\n",
    "#X['standard_age'] = data['age_in_days'].apply(lambda row: np.floor(row/365.))\n",
    "#X['perc'] = data['perc_premium_paid_by_cash_credit'].apply(lambda x: x if x<0.5 else x-1.)\n",
    "\n",
    "#from scipy.stats import boxcox\n",
    "\n",
    "#X['BCage_in_days'], _ = boxcox(data['age_in_days'])\n",
    "#X['BCIncome'], _ = boxcox(data['Income'])\n",
    "\n",
    "# fill nans\n",
    "#for name in X.columns.tolist():\n",
    "#    val = X[name].mean()#.iloc[0]\n",
    "#    X[name].fillna(val, inplace=True)\n",
    "    \n",
    "# predictor\n",
    "y = data['renewal']\n",
    "\n",
    "# premium\n",
    "premium = data['premium']"
   ]
  },
  {
   "cell_type": "code",
   "execution_count": 5,
   "metadata": {},
   "outputs": [
    {
     "name": "stdout",
     "output_type": "stream",
     "text": [
      "Single Fold done\n",
      "Single Fold done\n",
      "Single Fold done\n",
      "Single Fold done\n",
      "Single Fold done\n",
      "Single Fold done\n",
      "Single Fold done\n",
      "Single Fold done\n",
      "Single Fold done\n",
      "Single Fold done\n",
      "---------------------\n",
      "Single Fold done\n",
      "Single Fold done\n",
      "Single Fold done\n",
      "Single Fold done\n",
      "Single Fold done\n",
      "Single Fold done\n",
      "Single Fold done\n",
      "Single Fold done\n",
      "Single Fold done\n",
      "Single Fold done\n",
      "---------------------\n",
      "Single Fold done\n",
      "Single Fold done\n",
      "Single Fold done\n",
      "Single Fold done\n",
      "Single Fold done\n",
      "Single Fold done\n",
      "Single Fold done\n",
      "Single Fold done\n",
      "Single Fold done\n",
      "Single Fold done\n",
      "---------------------\n",
      "Single Fold done\n",
      "Single Fold done\n",
      "Single Fold done\n",
      "Single Fold done\n",
      "Single Fold done\n",
      "Single Fold done\n",
      "Single Fold done\n",
      "Single Fold done\n",
      "Single Fold done\n",
      "Single Fold done\n",
      "---------------------\n",
      "Single Fold done\n",
      "Single Fold done\n",
      "Single Fold done\n",
      "Single Fold done\n",
      "Single Fold done\n",
      "Single Fold done\n",
      "Single Fold done\n",
      "Single Fold done\n",
      "Single Fold done\n",
      "Single Fold done\n",
      "---------------------\n"
     ]
    }
   ],
   "source": [
    "from sklearn.model_selection import cross_val_score\n",
    "from xgboost import XGBClassifier\n",
    "from sklearn.model_selection import StratifiedKFold\n",
    "from sklearn.metrics import roc_auc_score, log_loss\n",
    "\n",
    "# max_depth = 5\n",
    "# min_child_weight = 5\n",
    "# colsample_bytree\n",
    "# subsample\n",
    "# gamma\n",
    "# \n",
    "\n",
    "estimator = XGBClassifier(n_estimators=250,\n",
    "                          reg_alpha=12.,\n",
    "                          reg_lambda=0.,\n",
    "                          random_state=654\n",
    "                         )\n",
    "\n",
    "# ----------------------\n",
    "# Validate\n",
    "# ----------------------\n",
    "\n",
    "auc_tab  = np.array([])\n",
    "loss_tab = np.array([])\n",
    "revenue  = np.array([])\n",
    "\n",
    "random_state = [245, 34, 78, 1234, 888]\n",
    "\n",
    "for rstate in random_state:\n",
    "    skf = StratifiedKFold(n_splits=10, random_state=rstate)\n",
    "    \n",
    "    for train_index, test_index in skf.split(X,y):\n",
    "        X_train, X_test = X.iloc[train_index], X.iloc[test_index]\n",
    "        y_train, y_test = y.iloc[train_index], y.iloc[test_index]\n",
    "    \n",
    "        estimator.fit(X_train, y_train)\n",
    "        prob = estimator.predict_proba(X_test)\n",
    "        premium_test = premium.iloc[test_index]\n",
    "    \n",
    "        auc = roc_auc_score(y_test, prob[:,1])\n",
    "        loss = log_loss(y_test, prob)\n",
    "        net = np.array([optimal_revenue(premium_test.iloc[i], prob[i,1])[1] for i in range(0,len(prob))])\n",
    "        net = np.sum(net)\n",
    "    \n",
    "        auc_tab  = np.append(auc_tab, auc)\n",
    "        loss_tab = np.append(loss_tab, loss)\n",
    "        revenue  = np.append(revenue, net)\n",
    "    \n",
    "        print('Single Fold done')\n",
    "    print('---------------------')"
   ]
  },
  {
   "cell_type": "code",
   "execution_count": 10,
   "metadata": {},
   "outputs": [
    {
     "name": "stdout",
     "output_type": "stream",
     "text": [
      "AUC: 0.84371698 +/- 0.00798831\n",
      "Loss: 0.17879203 +/- 0.00332575\n",
      "-------------------------------------------\n",
      "[0.13638814 0.1773585  0.16981132 0.08948787 0.0819407  0.05714286\n",
      " 0.10727762 0.180593  ]\n"
     ]
    }
   ],
   "source": [
    "print('AUC: %.8f +/- %.8f' % (np.mean(auc_tab), np.std(auc_tab)))\n",
    "print('Loss: %.8f +/- %.8f' % (np.mean(loss_tab), np.std(loss_tab)))\n",
    "print('-------------------------------------------')\n",
    "print(estimator.feature_importances_)"
   ]
  },
  {
   "cell_type": "markdown",
   "metadata": {},
   "source": [
    "1. reg_lambda = 12., n_estimators = 250\n",
    "    * AUC: 0.84372250 +/- 0.00794011\n",
    "    * Loss: 0.17877671 +/- 0.00332364\n",
    "2. reg_lambda = 15., n_estimators = 250\n",
    "    * AUC: 0.84347909 +/- 0.00775071\n",
    "    * Loss: 0.17887990 +/- 0.00324139\n",
    "3. reg_lambda = 12., n_estimators = 300\n",
    "    * AUC: 0.84369098 +/- 0.00802754\n",
    "    * Loss: 0.17880374 +/- 0.00334871\n",
    "4. reg_lambda = 12., n_estimators = 270\n",
    "    * AUC: 0.84371698 +/- 0.00798831\n",
    "    * Loss: 0.17879203 +/- 0.00332575"
   ]
  },
  {
   "cell_type": "code",
   "execution_count": 6,
   "metadata": {},
   "outputs": [
    {
     "name": "stdout",
     "output_type": "stream",
     "text": [
      "[0.84778787 0.84955196 0.83112891 0.85129575 0.85432661 0.83435097\n",
      " 0.84538076 0.84850688 0.84317827 0.83166185 0.84778787 0.84955196\n",
      " 0.83112891 0.85129575 0.85432661 0.83435097 0.84538076 0.84850688\n",
      " 0.84317827 0.83166185 0.84778787 0.84955196 0.83112891 0.85129575\n",
      " 0.85432661 0.83435097 0.84538076 0.84850688 0.84317827 0.83166185\n",
      " 0.84778787 0.84955196 0.83112891 0.85129575 0.85432661 0.83435097\n",
      " 0.84538076 0.84850688 0.84317827 0.83166185 0.84778787 0.84955196\n",
      " 0.83112891 0.85129575 0.85432661 0.83435097 0.84538076 0.84850688\n",
      " 0.84317827 0.83166185]\n",
      "[0.1773638  0.17654094 0.18051359 0.17611909 0.17397765 0.18433642\n",
      " 0.17826766 0.1760671  0.18060486 0.18412919 0.1773638  0.17654094\n",
      " 0.18051359 0.17611909 0.17397765 0.18433642 0.17826766 0.1760671\n",
      " 0.18060486 0.18412919 0.1773638  0.17654094 0.18051359 0.17611909\n",
      " 0.17397765 0.18433642 0.17826766 0.1760671  0.18060486 0.18412919\n",
      " 0.1773638  0.17654094 0.18051359 0.17611909 0.17397765 0.18433642\n",
      " 0.17826766 0.1760671  0.18060486 0.18412919 0.1773638  0.17654094\n",
      " 0.18051359 0.17611909 0.17397765 0.18433642 0.17826766 0.1760671\n",
      " 0.18060486 0.18412919]\n",
      "[7483.02393395 7474.71110968 7493.60074376 7490.01225972 7477.33317125\n",
      " 7490.11879239 7481.16304339 7482.53835822 7487.64634312 7494.58294326\n",
      " 7483.02393395 7474.71110968 7493.60074376 7490.01225972 7477.33317125\n",
      " 7490.11879239 7481.16304339 7482.53835822 7487.64634312 7494.58294326\n",
      " 7483.02393395 7474.71110968 7493.60074376 7490.01225972 7477.33317125\n",
      " 7490.11879239 7481.16304339 7482.53835822 7487.64634312 7494.58294326\n",
      " 7483.02393395 7474.71110968 7493.60074376 7490.01225972 7477.33317125\n",
      " 7490.11879239 7481.16304339 7482.53835822 7487.64634312 7494.58294326\n",
      " 7483.02393395 7474.71110968 7493.60074376 7490.01225972 7477.33317125\n",
      " 7490.11879239 7481.16304339 7482.53835822 7487.64634312 7494.58294326]\n"
     ]
    }
   ],
   "source": [
    "print(auc_tab)\n",
    "print(loss_tab)\n",
    "print(revenue)"
   ]
  },
  {
   "cell_type": "code",
   "execution_count": 7,
   "metadata": {},
   "outputs": [],
   "source": [
    "import matplotlib.pyplot as plt\n",
    "import seaborn as sns\n",
    "sns.set_context('notebook')\n",
    "\n",
    "plt.rcParams['text.usetex'] = True"
   ]
  },
  {
   "cell_type": "code",
   "execution_count": 8,
   "metadata": {},
   "outputs": [
    {
     "data": {
      "text/plain": [
       "<matplotlib.axes._subplots.AxesSubplot at 0x7fe46857cb10>"
      ]
     },
     "execution_count": 8,
     "metadata": {},
     "output_type": "execute_result"
    },
    {
     "data": {
      "image/png": "[encoded data removed]",
      "text/plain": [
       "<Figure size 1080x360 with 3 Axes>"
      ]
     },
     "metadata": {},
     "output_type": "display_data"
    }
   ],
   "source": [
    "plt.close()\n",
    "\n",
    "fig, ax = plt.subplots(figsize=(15,5), nrows=1, ncols=3)\n",
    "\n",
    "sns.boxplot(auc_tab, ax=ax[0])\n",
    "sns.boxplot(loss_tab, ax=ax[1])\n",
    "sns.boxplot(revenue, ax=ax[2])"
   ]
  },
  {
   "cell_type": "code",
   "execution_count": null,
   "metadata": {},
   "outputs": [],
   "source": []
  }
 ],
 "metadata": {
  "kernelspec": {
   "display_name": "Python 2",
   "language": "python",
   "name": "python2"
  },
  "language_info": {
   "codemirror_mode": {
    "name": "ipython",
    "version": 2
   },
   "file_extension": ".py",
   "mimetype": "text/x-python",
   "name": "python",
   "nbconvert_exporter": "python",
   "pygments_lexer": "ipython2",
   "version": "2.7.13"
  }
 },
 "nbformat": 4,
 "nbformat_minor": 2
}
