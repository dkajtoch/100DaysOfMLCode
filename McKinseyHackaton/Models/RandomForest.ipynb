{
 "cells": [
  {
   "cell_type": "markdown",
   "metadata": {},
   "source": [
    "# Random Forest\n",
    "(C) 2018 Dariusz Kajtoch\n",
    "\n",
    "https://www.analyticsvidhya.com/blog/2015/06/tuning-random-forest-model/"
   ]
  },
  {
   "cell_type": "code",
   "execution_count": 1,
   "metadata": {},
   "outputs": [],
   "source": [
    "import pandas as pd\n",
    "import numpy as np\n",
    "pd.options.mode.chained_assignment = None\n",
    "import warnings\n",
    "warnings.filterwarnings(\"ignore\", category=DeprecationWarning)\n",
    "import sys\n",
    "sys.path.append('../')\n",
    "from incentives import optimal_revenue"
   ]
  },
  {
   "cell_type": "code",
   "execution_count": 2,
   "metadata": {},
   "outputs": [],
   "source": [
    "data = pd.read_csv('../data/train.csv')"
   ]
  },
  {
   "cell_type": "code",
   "execution_count": null,
   "metadata": {},
   "outputs": [],
   "source": []
  },
  {
   "cell_type": "code",
   "execution_count": 3,
   "metadata": {},
   "outputs": [],
   "source": [
    "X = data[[\n",
    "          'perc_premium_paid_by_cash_credit', \n",
    "          'age_in_days', \n",
    "          'Income', \n",
    "          'Count_3-6_months_late', \n",
    "          'Count_6-12_months_late', \n",
    "          'Count_more_than_12_months_late', \n",
    "          'no_of_premiums_paid', \n",
    "#          'premium',\n",
    "          'application_underwriting_score',\n",
    "#          'sourcing_channel'\n",
    "         ]]\n",
    "#X['logIncome'] = np.log(data['Income'])\n",
    "#X['logAge'] = np.log(data['age_in_days'])\n",
    "#X['logperc_premium_paid_by_cash_credit'] = np.log(1. + data['perc_premium_paid_by_cash_credit'])\n",
    "#X['standard_age'] = data['age_in_days'].apply(lambda row: np.floor(row/365.))\n",
    "#X['perc'] = data['perc_premium_paid_by_cash_credit'].apply(lambda x: x if x<0.5 else x-1.)\n",
    "\n",
    "#from scipy.stats import boxcox\n",
    "\n",
    "#X['BCage_in_days'], _ = boxcox(data['age_in_days'])\n",
    "#X['BCIncome'], _ = boxcox(data['Income'])\n",
    "\n",
    "# fill nans\n",
    "for name in X.columns.tolist():\n",
    "    val = X[name].mean()#.iloc[0]\n",
    "    X[name].fillna(val, inplace=True)\n",
    "    \n",
    "# predictor\n",
    "y = data['renewal']"
   ]
  },
  {
   "cell_type": "code",
   "execution_count": 11,
   "metadata": {},
   "outputs": [
    {
     "name": "stdout",
     "output_type": "stream",
     "text": [
      "<bound method RandomForestClassifier.get_params of RandomForestClassifier(bootstrap=True, class_weight=None, criterion='gini',\n",
      "            max_depth=None, max_features='auto', max_leaf_nodes=None,\n",
      "            min_impurity_decrease=0.0, min_impurity_split=None,\n",
      "            min_samples_leaf=90, min_samples_split=3,\n",
      "            min_weight_fraction_leaf=0.0, n_estimators=250, n_jobs=1,\n",
      "            oob_score=False, random_state=1563, verbose=0,\n",
      "            warm_start=False)>\n",
      "Single Fold done\n",
      "Single Fold done\n",
      "Single Fold done\n",
      "Single Fold done\n",
      "Single Fold done\n",
      "Single Fold done\n",
      "Single Fold done\n",
      "Single Fold done\n",
      "Single Fold done\n",
      "Single Fold done\n"
     ]
    }
   ],
   "source": [
    "import warnings\n",
    "warnings.filterwarnings(\"ignore\", category=DeprecationWarning)\n",
    "from sklearn.ensemble import RandomForestClassifier\n",
    "from sklearn.model_selection import StratifiedKFold\n",
    "from sklearn.metrics import roc_auc_score, log_loss\n",
    "\n",
    "# criterion = 'gini', 'entropy'\n",
    "# max_dept\n",
    "# min_samples_split=2\n",
    "# min_samples_leaf=1\n",
    "# max_features\n",
    "\n",
    "estimator = RandomForestClassifier(n_estimators=250,\n",
    "                                   criterion='gini',\n",
    "#                                   max_features='auto',\n",
    "                                   min_samples_leaf=90,\n",
    "                                   min_samples_split=3,\n",
    "                                   random_state=1563\n",
    "#                                   max_depth=3\n",
    "                                  )\n",
    "print(estimator.get_params)\n",
    "\n",
    "# ----------------------\n",
    "# Validate\n",
    "# ----------------------\n",
    "\n",
    "auc_tab  = np.array([])\n",
    "loss_tab = np.array([])\n",
    "revenue  = np.array([])\n",
    "\n",
    "random_state = [245, 34, 78, 1234, 888]\n",
    "\n",
    "for rstate in random_state:\n",
    "    skf = StratifiedKFold(n_splits=10, random_state=rstate)\n",
    "\n",
    "    for train_index, test_index in skf.split(X,y):\n",
    "        X_train, X_test = X.iloc[train_index], X.iloc[test_index]\n",
    "        y_train, y_test = y.iloc[train_index], y.iloc[test_index]\n",
    "    \n",
    "        estimator.fit(X_train, y_train)\n",
    "        prob = estimator.predict_proba(X_test)\n",
    "    \n",
    "        auc = roc_auc_score(y_test, prob[:,1])\n",
    "        loss = log_loss(y_test, prob)\n",
    "        net = np.array([optimal_revenue(premium_test.iloc[i], prob[i,1])[1] for i in range(0,len(prob))])\n",
    "        net = np.sum(net)\n",
    "    \n",
    "        auc_tab  = np.append(auc_tab, auc)\n",
    "        loss_tab = np.append(loss_tab, loss)\n",
    "        revenue  = np.append(revenue, net)\n",
    "    \n",
    "        print('Single Fold done')"
   ]
  },
  {
   "cell_type": "code",
   "execution_count": 12,
   "metadata": {},
   "outputs": [
    {
     "name": "stdout",
     "output_type": "stream",
     "text": [
      "AUC: 0.84255586 +/- 0.00838847\n",
      "Loss: 0.17947660 +/- 0.00279630\n",
      "-------------------------------------------\n",
      "[0.19457891 0.03810079 0.03262838 0.15309797 0.3372076  0.16029443\n",
      " 0.03855606 0.04553585]\n"
     ]
    }
   ],
   "source": [
    "print('AUC: %.8f +/- %.8f' % (np.mean(auc_tab), np.std(auc_tab)))\n",
    "print('Loss: %.8f +/- %.8f' % (np.mean(loss_tab), np.std(loss_tab)))\n",
    "print('-------------------------------------------')\n",
    "print(estimator.feature_importances_)"
   ]
  },
  {
   "cell_type": "markdown",
   "metadata": {},
   "source": [
    "1. n_estimators = 250, min_samples_leaf = 100, min_samples_split = 3\n",
    "    * AUC: 0.84258960 +/- 0.00814210\n",
    "    * Loss: 0.17958005 +/- 0.00274064\n",
    "2. n_estimators = 250, min_samples_leaf = 120, min_samples_split = 3\n",
    "    * AUC: 0.84265138 +/- 0.00821999\n",
    "    * Loss: 0.17969945 +/- 0.00269591\n",
    "3. n_estimators = 270, min_samples_leaf = 100, min_samples_split = 3\n",
    "    * AUC: 0.84255165 +/- 0.00816924\n",
    "    * Loss: 0.17959528 +/- 0.00273818\n",
    "1. n_estimators = 250, min_samples_leaf = 90, min_samples_split = 3\n",
    "    * AUC: 0.84255586 +/- 0.00838847\n",
    "    * Loss: 0.17947660 +/- 0.00279630"
   ]
  },
  {
   "cell_type": "code",
   "execution_count": null,
   "metadata": {},
   "outputs": [],
   "source": []
  }
 ],
 "metadata": {
  "kernelspec": {
   "display_name": "Python 2",
   "language": "python",
   "name": "python2"
  },
  "language_info": {
   "codemirror_mode": {
    "name": "ipython",
    "version": 2
   },
   "file_extension": ".py",
   "mimetype": "text/x-python",
   "name": "python",
   "nbconvert_exporter": "python",
   "pygments_lexer": "ipython2",
   "version": "2.7.13"
  }
 },
 "nbformat": 4,
 "nbformat_minor": 2
}
